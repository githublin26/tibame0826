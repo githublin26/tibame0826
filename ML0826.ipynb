{
  "nbformat": 4,
  "nbformat_minor": 0,
  "metadata": {
    "colab": {
      "provenance": [],
      "authorship_tag": "ABX9TyPCokMPd3WIHew8Byr4MVtf",
      "include_colab_link": true
    },
    "kernelspec": {
      "name": "python3",
      "display_name": "Python 3"
    },
    "language_info": {
      "name": "python"
    }
  },
  "cells": [
    {
      "cell_type": "markdown",
      "metadata": {
        "id": "view-in-github",
        "colab_type": "text"
      },
      "source": [
        "<a href=\"https://colab.research.google.com/github/githublin26/tibame0826/blob/main/ML0826.ipynb\" target=\"_parent\"><img src=\"https://colab.research.google.com/assets/colab-badge.svg\" alt=\"Open In Colab\"/></a>"
      ]
    },
    {
      "cell_type": "code",
      "execution_count": null,
      "metadata": {
        "id": "ttjtn_EgCtro"
      },
      "outputs": [],
      "source": []
    },
    {
      "cell_type": "markdown",
      "source": [
        "https://en.wikibooks.org/wiki/LaTeX/Mathematics\n",
        "\n",
        "$   area =  \\frac{1}{x_1^2+1} $\n",
        "\n",
        "$  \\pi \\sum P(i,j) $"
      ],
      "metadata": {
        "id": "RGCgEp7jEvfZ"
      }
    }
  ]
}